{
 "cells": [
  {
   "cell_type": "code",
   "execution_count": 3,
   "id": "559572af",
   "metadata": {},
   "outputs": [
    {
     "name": "stdout",
     "output_type": "stream",
     "text": [
      "NumPy está instalado correctamente.\n",
      "Pandas está instalado correctamente.\n"
     ]
    }
   ],
   "source": [
    "try:\n",
    "    import numpy as np\n",
    "    # Prueba simple: Crear un array\n",
    "    test_array = np.array([1, 2, 3])\n",
    "    print(\"NumPy está instalado correctamente.\")\n",
    "except ImportError:\n",
    "    print(\"NumPy no está instalado. Por favor, instala usando: pip install numpy\")\n",
    "except:\n",
    "    print(\"NumPy está instalado pero no está funcionando adecuadamente.\")\n",
    "\n",
    "try:\n",
    "    import pandas as pd\n",
    "    # Prueba simple: Crear un DataFrame\n",
    "    test_df = pd.DataFrame({'Columna1': [1, 2], 'Columna2': [3, 4]})\n",
    "    print(\"Pandas está instalado correctamente.\")\n",
    "except ImportError:\n",
    "    print(\"Pandas no está instalado. Por favor, instala usando: pip install pandas\")\n",
    "except:\n",
    "    print(\"Pandas está instalado pero no está funcionando adecuadamente.\")"
   ]
  },
  {
   "cell_type": "markdown",
   "id": "159aa552",
   "metadata": {},
   "source": [
    "1. Genera un array bidimensional de 4 x 3 con valores aleatorios enteros entre el 34 y el 98. Una vez creado cada array comprueba las dimensiones y los tipos de datos que tenemos en el array."
   ]
  },
  {
   "cell_type": "code",
   "execution_count": 4,
   "id": "c779bb73",
   "metadata": {},
   "outputs": [
    {
     "name": "stdout",
     "output_type": "stream",
     "text": [
      "Array aleatorio:\n",
      " [[37 51 69]\n",
      " [86 68 77]\n",
      " [77 39 65]\n",
      " [86 77 68]]\n"
     ]
    }
   ],
   "source": [
    "array_aleatorio1 = np.random.randint(34, 99, size=(4, 3))  # crea un valor aleatorio entre 34 (inclusive) y 99 (exclusivo)\n",
    "print(\"Array aleatorio:\\n\", array_aleatorio1)"
   ]
  },
  {
   "cell_type": "code",
   "execution_count": 5,
   "id": "7e1f24ef",
   "metadata": {},
   "outputs": [
    {
     "data": {
      "text/plain": [
       "array([[37, 51, 69],\n",
       "       [86, 68, 77],\n",
       "       [77, 39, 65],\n",
       "       [86, 77, 68]])"
      ]
     },
     "execution_count": 5,
     "metadata": {},
     "output_type": "execute_result"
    }
   ],
   "source": [
    "array_aleatorio1"
   ]
  },
  {
   "cell_type": "code",
   "execution_count": 6,
   "id": "2e6ce0ba",
   "metadata": {},
   "outputs": [
    {
     "name": "stdout",
     "output_type": "stream",
     "text": [
      "Número de dimensiones (ndim): 2\n",
      "Forma (shape): (4, 3)\n",
      "Tamaño total (size): 12\n",
      "Tipo de datos (dtype): int32\n"
     ]
    }
   ],
   "source": [
    "print(\"Número de dimensiones (ndim):\", array_aleatorio1.ndim) # 2 dimensiones\n",
    "print(\"Forma (shape):\", array_aleatorio1.shape) # 2 filas y 4 columnas\n",
    "print(\"Tamaño total (size):\", array_aleatorio1.size) # número de elementos \n",
    "print(\"Tipo de datos (dtype):\", array_aleatorio1.dtype) # tipo de dato"
   ]
  },
  {
   "cell_type": "markdown",
   "id": "f825a62e",
   "metadata": {},
   "source": [
    "2. Crea dos arrays (unidimensional, bidimensional) usando el método np.array().\n",
    "\n",
    "Las listas para crear los arrays son las siguientes\n",
    "\n",
    "Copy\n",
    "lista1 = [34,56,71,98, 10]\n",
    "lista2 = [[23,45,89, 56], [12,43,82,44]]"
   ]
  },
  {
   "cell_type": "code",
   "execution_count": 7,
   "id": "bc6e92fc",
   "metadata": {},
   "outputs": [],
   "source": [
    "lista1 = [34,56,71,98, 10]\n",
    "array1D = np.array(lista1)"
   ]
  },
  {
   "cell_type": "code",
   "execution_count": 8,
   "id": "1937c330",
   "metadata": {},
   "outputs": [],
   "source": [
    "lista2 = [[23,45,89, 56], [12,43,82,44]]\n",
    "array2D = np.array(lista2)"
   ]
  },
  {
   "cell_type": "code",
   "execution_count": 9,
   "id": "05695ce8",
   "metadata": {},
   "outputs": [
    {
     "data": {
      "text/plain": [
       "array([34, 56, 71, 98, 10])"
      ]
     },
     "execution_count": 9,
     "metadata": {},
     "output_type": "execute_result"
    }
   ],
   "source": [
    "array1D"
   ]
  },
  {
   "cell_type": "code",
   "execution_count": 10,
   "id": "20b1262c",
   "metadata": {},
   "outputs": [
    {
     "data": {
      "text/plain": [
       "array([[23, 45, 89, 56],\n",
       "       [12, 43, 82, 44]])"
      ]
     },
     "execution_count": 10,
     "metadata": {},
     "output_type": "execute_result"
    }
   ],
   "source": [
    "array2D"
   ]
  },
  {
   "cell_type": "markdown",
   "id": "971cfe03",
   "metadata": {},
   "source": [
    "\n",
    "3. Crea un array unidimensional con 50 elementos con el método que prefieras y extrae:\n",
    "\n",
    "El primer elemento.\n",
    "\n",
    "Lo elementos que están en posición impar.\n",
    "\n",
    "Los cuatro primeros elementos.\n",
    "\n",
    "Los últimos tres elementos.\n",
    "\n",
    "Los elementos entre el 4 y el 8 (incluido)."
   ]
  },
  {
   "cell_type": "code",
   "execution_count": 17,
   "id": "bae83b79",
   "metadata": {},
   "outputs": [
    {
     "name": "stdout",
     "output_type": "stream",
     "text": [
      "Array arange(50):\n",
      "[ 0  1  2  3  4  5  6  7  8  9 10 11 12 13 14 15 16 17 18 19 20 21 22 23\n",
      " 24 25 26 27 28 29 30 31 32 33 34 35 36 37 38 39 40 41 42 43 44 45 46 47\n",
      " 48 49]\n",
      "\n"
     ]
    }
   ],
   "source": [
    "array_arange = np.arange(50)\n",
    "print(f\"Array arange(50):\\n{array_arange}\\n\")"
   ]
  },
  {
   "cell_type": "code",
   "execution_count": 19,
   "id": "fac0d1b8",
   "metadata": {},
   "outputs": [
    {
     "data": {
      "text/plain": [
       "0"
      ]
     },
     "execution_count": 19,
     "metadata": {},
     "output_type": "execute_result"
    }
   ],
   "source": [
    "array_arange[0]"
   ]
  },
  {
   "cell_type": "code",
   "execution_count": 20,
   "id": "bac5da4e",
   "metadata": {},
   "outputs": [
    {
     "data": {
      "text/plain": [
       "array([ 1,  3,  5,  7,  9, 11, 13, 15, 17, 19, 21, 23, 25, 27, 29, 31, 33,\n",
       "       35, 37, 39, 41, 43, 45, 47, 49])"
      ]
     },
     "execution_count": 20,
     "metadata": {},
     "output_type": "execute_result"
    }
   ],
   "source": [
    "array_arange[1::2]"
   ]
  },
  {
   "cell_type": "code",
   "execution_count": 22,
   "id": "7f05bf7c",
   "metadata": {},
   "outputs": [
    {
     "data": {
      "text/plain": [
       "array([0, 1, 2, 3])"
      ]
     },
     "execution_count": 22,
     "metadata": {},
     "output_type": "execute_result"
    }
   ],
   "source": [
    "array_arange[0:4]"
   ]
  },
  {
   "cell_type": "code",
   "execution_count": 23,
   "id": "58276c81",
   "metadata": {},
   "outputs": [
    {
     "data": {
      "text/plain": [
       "array([47, 48, 49])"
      ]
     },
     "execution_count": 23,
     "metadata": {},
     "output_type": "execute_result"
    }
   ],
   "source": [
    "array_arange[-3:]"
   ]
  },
  {
   "cell_type": "code",
   "execution_count": 24,
   "id": "aec1e2be",
   "metadata": {},
   "outputs": [
    {
     "data": {
      "text/plain": [
       "array([4, 5, 6, 7, 8])"
      ]
     },
     "execution_count": 24,
     "metadata": {},
     "output_type": "execute_result"
    }
   ],
   "source": [
    "array_arange[4:9]"
   ]
  },
  {
   "cell_type": "markdown",
   "id": "e5d6e6e3",
   "metadata": {},
   "source": [
    "4. Crea un array de dos dimensiones de 4 x 5 con el método que prefieras y extrae:\n",
    "\n",
    "La primera fila y todas las columnas.\n",
    "\n",
    "Todas las filas pares.\n",
    "\n",
    "La primera columna y todas las filas."
   ]
  },
  {
   "cell_type": "code",
   "execution_count": 25,
   "id": "9367d36b",
   "metadata": {},
   "outputs": [
    {
     "name": "stdout",
     "output_type": "stream",
     "text": [
      "Array aleatorio:\n",
      " [[58 15 32 96 52]\n",
      " [84 83 90 20 60]\n",
      " [ 8 76 70 60 51]\n",
      " [35 72 94 33 77]]\n"
     ]
    }
   ],
   "source": [
    "array_aleatorio1 = np.random.randint(0, 100, size=(4, 5))  \n",
    "print(\"Array aleatorio:\\n\", array_aleatorio1)"
   ]
  },
  {
   "cell_type": "code",
   "execution_count": 28,
   "id": "d95935ab",
   "metadata": {},
   "outputs": [
    {
     "name": "stdout",
     "output_type": "stream",
     "text": [
      "Array arange(20):\n",
      "[[ 0  1  2  3  4]\n",
      " [ 5  6  7  8  9]\n",
      " [10 11 12 13 14]\n",
      " [15 16 17 18 19]]\n",
      "\n"
     ]
    }
   ],
   "source": [
    "array_arange = np.arange(20).reshape(4, 5)\n",
    "print(f\"Array arange(20):\\n{array_arange}\\n\")"
   ]
  },
  {
   "cell_type": "code",
   "execution_count": 29,
   "id": "e9631510",
   "metadata": {},
   "outputs": [],
   "source": [
    "array_arange = np.arange(100).reshape(10, 10)"
   ]
  },
  {
   "cell_type": "code",
   "execution_count": 30,
   "id": "7f35e961",
   "metadata": {},
   "outputs": [
    {
     "data": {
      "text/plain": [
       "array([[ 0,  1,  2,  3,  4,  5,  6,  7,  8,  9],\n",
       "       [10, 11, 12, 13, 14, 15, 16, 17, 18, 19],\n",
       "       [20, 21, 22, 23, 24, 25, 26, 27, 28, 29],\n",
       "       [30, 31, 32, 33, 34, 35, 36, 37, 38, 39],\n",
       "       [40, 41, 42, 43, 44, 45, 46, 47, 48, 49],\n",
       "       [50, 51, 52, 53, 54, 55, 56, 57, 58, 59],\n",
       "       [60, 61, 62, 63, 64, 65, 66, 67, 68, 69],\n",
       "       [70, 71, 72, 73, 74, 75, 76, 77, 78, 79],\n",
       "       [80, 81, 82, 83, 84, 85, 86, 87, 88, 89],\n",
       "       [90, 91, 92, 93, 94, 95, 96, 97, 98, 99]])"
      ]
     },
     "execution_count": 30,
     "metadata": {},
     "output_type": "execute_result"
    }
   ],
   "source": [
    "array_arange"
   ]
  },
  {
   "cell_type": "code",
   "execution_count": 31,
   "id": "105b14f0",
   "metadata": {},
   "outputs": [
    {
     "data": {
      "text/plain": [
       "array([0, 1, 2, 3, 4, 5, 6, 7, 8, 9])"
      ]
     },
     "execution_count": 31,
     "metadata": {},
     "output_type": "execute_result"
    }
   ],
   "source": [
    "array_arange[0]"
   ]
  },
  {
   "cell_type": "code",
   "execution_count": 36,
   "id": "8fc1892a",
   "metadata": {},
   "outputs": [
    {
     "data": {
      "text/plain": [
       "array([ 0, 10, 20, 30, 40, 50, 60, 70, 80, 90])"
      ]
     },
     "execution_count": 36,
     "metadata": {},
     "output_type": "execute_result"
    }
   ],
   "source": [
    "array_arange[:,0]"
   ]
  },
  {
   "cell_type": "code",
   "execution_count": 37,
   "id": "e61d7cf5",
   "metadata": {},
   "outputs": [
    {
     "data": {
      "text/plain": [
       "array([[ 0,  2,  4,  6,  8],\n",
       "       [10, 12, 14, 16, 18],\n",
       "       [20, 22, 24, 26, 28],\n",
       "       [30, 32, 34, 36, 38],\n",
       "       [40, 42, 44, 46, 48],\n",
       "       [50, 52, 54, 56, 58],\n",
       "       [60, 62, 64, 66, 68],\n",
       "       [70, 72, 74, 76, 78],\n",
       "       [80, 82, 84, 86, 88],\n",
       "       [90, 92, 94, 96, 98]])"
      ]
     },
     "execution_count": 37,
     "metadata": {},
     "output_type": "execute_result"
    }
   ],
   "source": [
    "array_arange[:, ::2]"
   ]
  },
  {
   "cell_type": "markdown",
   "id": "389b76e2",
   "metadata": {},
   "source": [
    "5. Crea un array bidimensional con 20 elementos aleatrorios entre 0 y 50 con el método que prefieras y:\n",
    "\n",
    "Crea una mascara o filtro donde los valores mayores a 30 y menores a 10 se reemplace por \"objetivo\" y el resto por \"no es mi objetivo\".\n",
    "\n",
    "Los valores de mi array bidimensional multiplicalos por el escalar 10."
   ]
  },
  {
   "cell_type": "code",
   "execution_count": 38,
   "id": "56e8d6ad",
   "metadata": {},
   "outputs": [
    {
     "name": "stdout",
     "output_type": "stream",
     "text": [
      "Array aleatorio:\n",
      " [[30 27 20 49 29]\n",
      " [27 33 48 33 17]\n",
      " [35 49 40 39 21]\n",
      " [ 0 17  7  2 46]]\n"
     ]
    }
   ],
   "source": [
    "array_aleatorio1 = np.random.randint(0, 51, size=(4, 5))  \n",
    "print(\"Array aleatorio:\\n\", array_aleatorio1)"
   ]
  },
  {
   "cell_type": "code",
   "execution_count": null,
   "id": "f2594356",
   "metadata": {},
   "outputs": [],
   "source": [
    "mascara = np.where(array_aleatorio1 > 30, < 10"
   ]
  }
 ],
 "metadata": {
  "kernelspec": {
   "display_name": "base",
   "language": "python",
   "name": "python3"
  },
  "language_info": {
   "codemirror_mode": {
    "name": "ipython",
    "version": 3
   },
   "file_extension": ".py",
   "mimetype": "text/x-python",
   "name": "python",
   "nbconvert_exporter": "python",
   "pygments_lexer": "ipython3",
   "version": "3.12.7"
  }
 },
 "nbformat": 4,
 "nbformat_minor": 5
}

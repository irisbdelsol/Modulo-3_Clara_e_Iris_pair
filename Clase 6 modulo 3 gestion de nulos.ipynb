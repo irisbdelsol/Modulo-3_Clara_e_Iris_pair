{
 "cells": [
  {
   "cell_type": "code",
   "execution_count": 2,
   "id": "ec93eb2c",
   "metadata": {},
   "outputs": [
    {
     "name": "stdout",
     "output_type": "stream",
     "text": [
      "Requirement already satisfied: scikit-learn in c:\\users\\remarkt\\anaconda3\\lib\\site-packages (1.5.1)\n",
      "Requirement already satisfied: numpy>=1.19.5 in c:\\users\\remarkt\\anaconda3\\lib\\site-packages (from scikit-learn) (1.26.4)\n",
      "Requirement already satisfied: scipy>=1.6.0 in c:\\users\\remarkt\\anaconda3\\lib\\site-packages (from scikit-learn) (1.13.1)\n",
      "Requirement already satisfied: joblib>=1.2.0 in c:\\users\\remarkt\\anaconda3\\lib\\site-packages (from scikit-learn) (1.4.2)\n",
      "Requirement already satisfied: threadpoolctl>=3.1.0 in c:\\users\\remarkt\\anaconda3\\lib\\site-packages (from scikit-learn) (3.5.0)\n",
      "Requirement already satisfied: seaborn in c:\\users\\remarkt\\anaconda3\\lib\\site-packages (0.13.2)\n",
      "Requirement already satisfied: numpy!=1.24.0,>=1.20 in c:\\users\\remarkt\\anaconda3\\lib\\site-packages (from seaborn) (1.26.4)\n",
      "Requirement already satisfied: pandas>=1.2 in c:\\users\\remarkt\\anaconda3\\lib\\site-packages (from seaborn) (2.2.2)\n",
      "Requirement already satisfied: matplotlib!=3.6.1,>=3.4 in c:\\users\\remarkt\\anaconda3\\lib\\site-packages (from seaborn) (3.9.2)\n",
      "Requirement already satisfied: contourpy>=1.0.1 in c:\\users\\remarkt\\anaconda3\\lib\\site-packages (from matplotlib!=3.6.1,>=3.4->seaborn) (1.2.0)\n",
      "Requirement already satisfied: cycler>=0.10 in c:\\users\\remarkt\\anaconda3\\lib\\site-packages (from matplotlib!=3.6.1,>=3.4->seaborn) (0.11.0)\n",
      "Requirement already satisfied: fonttools>=4.22.0 in c:\\users\\remarkt\\anaconda3\\lib\\site-packages (from matplotlib!=3.6.1,>=3.4->seaborn) (4.51.0)\n",
      "Requirement already satisfied: kiwisolver>=1.3.1 in c:\\users\\remarkt\\anaconda3\\lib\\site-packages (from matplotlib!=3.6.1,>=3.4->seaborn) (1.4.4)\n",
      "Requirement already satisfied: packaging>=20.0 in c:\\users\\remarkt\\anaconda3\\lib\\site-packages (from matplotlib!=3.6.1,>=3.4->seaborn) (24.1)\n",
      "Requirement already satisfied: pillow>=8 in c:\\users\\remarkt\\anaconda3\\lib\\site-packages (from matplotlib!=3.6.1,>=3.4->seaborn) (10.4.0)\n",
      "Requirement already satisfied: pyparsing>=2.3.1 in c:\\users\\remarkt\\anaconda3\\lib\\site-packages (from matplotlib!=3.6.1,>=3.4->seaborn) (3.1.2)\n",
      "Requirement already satisfied: python-dateutil>=2.7 in c:\\users\\remarkt\\anaconda3\\lib\\site-packages (from matplotlib!=3.6.1,>=3.4->seaborn) (2.9.0.post0)\n",
      "Requirement already satisfied: pytz>=2020.1 in c:\\users\\remarkt\\anaconda3\\lib\\site-packages (from pandas>=1.2->seaborn) (2024.1)\n",
      "Requirement already satisfied: tzdata>=2022.7 in c:\\users\\remarkt\\anaconda3\\lib\\site-packages (from pandas>=1.2->seaborn) (2023.3)\n",
      "Requirement already satisfied: six>=1.5 in c:\\users\\remarkt\\anaconda3\\lib\\site-packages (from python-dateutil>=2.7->matplotlib!=3.6.1,>=3.4->seaborn) (1.16.0)\n",
      "Requirement already satisfied: matplotlib in c:\\users\\remarkt\\anaconda3\\lib\\site-packages (3.9.2)\n",
      "Requirement already satisfied: contourpy>=1.0.1 in c:\\users\\remarkt\\anaconda3\\lib\\site-packages (from matplotlib) (1.2.0)\n",
      "Requirement already satisfied: cycler>=0.10 in c:\\users\\remarkt\\anaconda3\\lib\\site-packages (from matplotlib) (0.11.0)\n",
      "Requirement already satisfied: fonttools>=4.22.0 in c:\\users\\remarkt\\anaconda3\\lib\\site-packages (from matplotlib) (4.51.0)\n",
      "Requirement already satisfied: kiwisolver>=1.3.1 in c:\\users\\remarkt\\anaconda3\\lib\\site-packages (from matplotlib) (1.4.4)\n",
      "Requirement already satisfied: numpy>=1.23 in c:\\users\\remarkt\\anaconda3\\lib\\site-packages (from matplotlib) (1.26.4)\n",
      "Requirement already satisfied: packaging>=20.0 in c:\\users\\remarkt\\anaconda3\\lib\\site-packages (from matplotlib) (24.1)\n",
      "Requirement already satisfied: pillow>=8 in c:\\users\\remarkt\\anaconda3\\lib\\site-packages (from matplotlib) (10.4.0)\n",
      "Requirement already satisfied: pyparsing>=2.3.1 in c:\\users\\remarkt\\anaconda3\\lib\\site-packages (from matplotlib) (3.1.2)\n",
      "Requirement already satisfied: python-dateutil>=2.7 in c:\\users\\remarkt\\anaconda3\\lib\\site-packages (from matplotlib) (2.9.0.post0)\n",
      "Requirement already satisfied: six>=1.5 in c:\\users\\remarkt\\anaconda3\\lib\\site-packages (from python-dateutil>=2.7->matplotlib) (1.16.0)\n"
     ]
    }
   ],
   "source": [
    "!pip install scikit-learn\n",
    "!pip install seaborn\n",
    "!pip install matplotlib"
   ]
  },
  {
   "cell_type": "code",
   "execution_count": 2,
   "id": "8d0ffbbd",
   "metadata": {},
   "outputs": [],
   "source": [
    "import pandas as pd\n",
    "import numpy as np"
   ]
  },
  {
   "cell_type": "code",
   "execution_count": 3,
   "id": "9794e4b5",
   "metadata": {},
   "outputs": [],
   "source": [
    "from sklearn.impute import SimpleImputer"
   ]
  },
  {
   "cell_type": "code",
   "execution_count": 4,
   "id": "61069f99",
   "metadata": {},
   "outputs": [],
   "source": [
    "from sklearn.experimental import enable_iterative_imputer"
   ]
  },
  {
   "cell_type": "code",
   "execution_count": 5,
   "id": "2a6a9142",
   "metadata": {},
   "outputs": [],
   "source": [
    "from sklearn.impute import IterativeImputer"
   ]
  },
  {
   "cell_type": "code",
   "execution_count": 6,
   "id": "72b54fa7",
   "metadata": {},
   "outputs": [],
   "source": [
    "from sklearn.impute import KNNImputer"
   ]
  },
  {
   "cell_type": "code",
   "execution_count": 7,
   "id": "9cb57881",
   "metadata": {},
   "outputs": [],
   "source": [
    "import seaborn as sns\n",
    "import matplotlib.pyplot as plt"
   ]
  },
  {
   "cell_type": "code",
   "execution_count": 8,
   "id": "3091234a",
   "metadata": {},
   "outputs": [
    {
     "data": {
      "text/html": [
       "<div>\n",
       "<style scoped>\n",
       "    .dataframe tbody tr th:only-of-type {\n",
       "        vertical-align: middle;\n",
       "    }\n",
       "\n",
       "    .dataframe tbody tr th {\n",
       "        vertical-align: top;\n",
       "    }\n",
       "\n",
       "    .dataframe thead th {\n",
       "        text-align: right;\n",
       "    }\n",
       "</style>\n",
       "<table border=\"1\" class=\"dataframe\">\n",
       "  <thead>\n",
       "    <tr style=\"text-align: right;\">\n",
       "      <th></th>\n",
       "      <th>title</th>\n",
       "      <th>price</th>\n",
       "      <th>retail_price</th>\n",
       "      <th>units_sold</th>\n",
       "      <th>uses_ad_boosts</th>\n",
       "      <th>rating_sold</th>\n",
       "      <th>rating_count</th>\n",
       "      <th>rating_five_count</th>\n",
       "      <th>rating_four_count</th>\n",
       "      <th>rating_three_count</th>\n",
       "      <th>...</th>\n",
       "      <th>listed_products</th>\n",
       "      <th>total_units_sold</th>\n",
       "      <th>mean_units_sold_per_product</th>\n",
       "      <th>rating_employee</th>\n",
       "      <th>merchant_ratings_count</th>\n",
       "      <th>mean_product_prices</th>\n",
       "      <th>mean_retail_prices</th>\n",
       "      <th>mean_product_ratings_count</th>\n",
       "      <th>discount_percentage</th>\n",
       "      <th>seller_reputation</th>\n",
       "    </tr>\n",
       "  </thead>\n",
       "  <tbody>\n",
       "    <tr>\n",
       "      <th>0</th>\n",
       "      <td>2020 Summer Vintage Flamingo Print  Pajamas Se...</td>\n",
       "      <td>16.0</td>\n",
       "      <td>14</td>\n",
       "      <td>100</td>\n",
       "      <td>No</td>\n",
       "      <td>3.76</td>\n",
       "      <td>54</td>\n",
       "      <td>26.0</td>\n",
       "      <td>8.0</td>\n",
       "      <td>10.0</td>\n",
       "      <td>...</td>\n",
       "      <td>1</td>\n",
       "      <td>100</td>\n",
       "      <td>100.0</td>\n",
       "      <td>4.129</td>\n",
       "      <td>568.0</td>\n",
       "      <td>16.0</td>\n",
       "      <td>14.0</td>\n",
       "      <td>54.0</td>\n",
       "      <td>14.29</td>\n",
       "      <td>Buena</td>\n",
       "    </tr>\n",
       "  </tbody>\n",
       "</table>\n",
       "<p>1 rows × 40 columns</p>\n",
       "</div>"
      ],
      "text/plain": [
       "                                               title  price  retail_price  \\\n",
       "0  2020 Summer Vintage Flamingo Print  Pajamas Se...   16.0            14   \n",
       "\n",
       "   units_sold uses_ad_boosts  rating_sold  rating_count  rating_five_count  \\\n",
       "0         100             No         3.76            54               26.0   \n",
       "\n",
       "   rating_four_count  rating_three_count  ...  listed_products  \\\n",
       "0                8.0                10.0  ...                1   \n",
       "\n",
       "   total_units_sold mean_units_sold_per_product rating_employee  \\\n",
       "0               100                       100.0           4.129   \n",
       "\n",
       "  merchant_ratings_count mean_product_prices mean_retail_prices  \\\n",
       "0                  568.0                16.0               14.0   \n",
       "\n",
       "  mean_product_ratings_count discount_percentage  seller_reputation  \n",
       "0                       54.0               14.29              Buena  \n",
       "\n",
       "[1 rows x 40 columns]"
      ]
     },
     "execution_count": 8,
     "metadata": {},
     "output_type": "execute_result"
    }
   ],
   "source": [
    "#1.Cargad el csv\n",
    "\n",
    "df = pd.read_csv(\"merchant_ejercicios_apply.csv\", index_col=0)\n",
    "df.head(1)"
   ]
  },
  {
   "cell_type": "code",
   "execution_count": 9,
   "id": "d2b38faf",
   "metadata": {},
   "outputs": [
    {
     "name": "stdout",
     "output_type": "stream",
     "text": [
      "<class 'pandas.core.frame.DataFrame'>\n",
      "Index: 1573 entries, 0 to 1572\n",
      "Data columns (total 40 columns):\n",
      " #   Column                       Non-Null Count  Dtype  \n",
      "---  ------                       --------------  -----  \n",
      " 0   title                        1573 non-null   object \n",
      " 1   price                        1573 non-null   float64\n",
      " 2   retail_price                 1573 non-null   int64  \n",
      " 3   units_sold                   1573 non-null   int64  \n",
      " 4   uses_ad_boosts               1573 non-null   object \n",
      " 5   rating_sold                  1573 non-null   float64\n",
      " 6   rating_count                 1573 non-null   int64  \n",
      " 7   rating_five_count            1528 non-null   float64\n",
      " 8   rating_four_count            1528 non-null   float64\n",
      " 9   rating_three_count           1528 non-null   float64\n",
      " 10  rating_two_count             1528 non-null   float64\n",
      " 11  rating_one_count             1528 non-null   float64\n",
      " 12  badge_local_product          1573 non-null   object \n",
      " 13  badge_product_quality        1573 non-null   object \n",
      " 14  badge_fast_shipping          1573 non-null   object \n",
      " 15  tags                         1573 non-null   object \n",
      " 16  product_color                1532 non-null   object \n",
      " 17  product_variation_size_id    1559 non-null   object \n",
      " 18  shipping_option_name         1573 non-null   object \n",
      " 19  shipping_option_price        1573 non-null   int64  \n",
      " 20  shipping_is_express          1573 non-null   object \n",
      " 21  countries_shipped_to         1573 non-null   int64  \n",
      " 22  inventory_total              1573 non-null   int64  \n",
      " 23  origin_country               1556 non-null   object \n",
      " 24  merchant_name                1569 non-null   object \n",
      " 25  merchant_info_subtitle       1279 non-null   object \n",
      " 26  merchant_rating_count        1573 non-null   int64  \n",
      " 27  merchant_id                  1573 non-null   object \n",
      " 28  product_url                  1573 non-null   object \n",
      " 29  product_id                   1573 non-null   object \n",
      " 30  listed_products              1573 non-null   int64  \n",
      " 31  total_units_sold             1573 non-null   int64  \n",
      " 32  mean_units_sold_per_product  1573 non-null   float64\n",
      " 33  rating_employee              1573 non-null   float64\n",
      " 34  merchant_ratings_count       1573 non-null   float64\n",
      " 35  mean_product_prices          1573 non-null   float64\n",
      " 36  mean_retail_prices           1573 non-null   float64\n",
      " 37  mean_product_ratings_count   1573 non-null   float64\n",
      " 38  discount_percentage          1573 non-null   float64\n",
      " 39  seller_reputation            1573 non-null   object \n",
      "dtypes: float64(14), int64(9), object(17)\n",
      "memory usage: 503.9+ KB\n"
     ]
    }
   ],
   "source": [
    "#2. ¿Qué columnas tienen nulos?\n",
    "\n",
    "df.info()"
   ]
  },
  {
   "cell_type": "code",
   "execution_count": 11,
   "id": "6297e0ee",
   "metadata": {},
   "outputs": [
    {
     "data": {
      "text/plain": [
       "title                            0\n",
       "price                            0\n",
       "retail_price                     0\n",
       "units_sold                       0\n",
       "uses_ad_boosts                   0\n",
       "rating_sold                      0\n",
       "rating_count                     0\n",
       "rating_five_count               45\n",
       "rating_four_count               45\n",
       "rating_three_count              45\n",
       "rating_two_count                45\n",
       "rating_one_count                45\n",
       "badge_local_product              0\n",
       "badge_product_quality            0\n",
       "badge_fast_shipping              0\n",
       "tags                             0\n",
       "product_color                   41\n",
       "product_variation_size_id       14\n",
       "shipping_option_name             0\n",
       "shipping_option_price            0\n",
       "shipping_is_express              0\n",
       "countries_shipped_to             0\n",
       "inventory_total                  0\n",
       "origin_country                  17\n",
       "merchant_name                    4\n",
       "merchant_info_subtitle         294\n",
       "merchant_rating_count            0\n",
       "merchant_id                      0\n",
       "product_url                      0\n",
       "product_id                       0\n",
       "listed_products                  0\n",
       "total_units_sold                 0\n",
       "mean_units_sold_per_product      0\n",
       "rating_employee                  0\n",
       "merchant_ratings_count           0\n",
       "mean_product_prices              0\n",
       "mean_retail_prices               0\n",
       "mean_product_ratings_count       0\n",
       "discount_percentage              0\n",
       "seller_reputation                0\n",
       "dtype: int64"
      ]
     },
     "execution_count": 11,
     "metadata": {},
     "output_type": "execute_result"
    }
   ],
   "source": [
    "nulos = df.isnull().sum()\n",
    "nulos"
   ]
  },
  {
   "cell_type": "code",
   "execution_count": 12,
   "id": "ee9771d8",
   "metadata": {},
   "outputs": [
    {
     "data": {
      "text/plain": [
       "title                           0.000000\n",
       "price                           0.000000\n",
       "retail_price                    0.000000\n",
       "units_sold                      0.000000\n",
       "uses_ad_boosts                  0.000000\n",
       "rating_sold                     0.000000\n",
       "rating_count                    0.000000\n",
       "rating_five_count               2.860776\n",
       "rating_four_count               2.860776\n",
       "rating_three_count              2.860776\n",
       "rating_two_count                2.860776\n",
       "rating_one_count                2.860776\n",
       "badge_local_product             0.000000\n",
       "badge_product_quality           0.000000\n",
       "badge_fast_shipping             0.000000\n",
       "tags                            0.000000\n",
       "product_color                   2.606484\n",
       "product_variation_size_id       0.890019\n",
       "shipping_option_name            0.000000\n",
       "shipping_option_price           0.000000\n",
       "shipping_is_express             0.000000\n",
       "countries_shipped_to            0.000000\n",
       "inventory_total                 0.000000\n",
       "origin_country                  1.080737\n",
       "merchant_name                   0.254291\n",
       "merchant_info_subtitle         18.690401\n",
       "merchant_rating_count           0.000000\n",
       "merchant_id                     0.000000\n",
       "product_url                     0.000000\n",
       "product_id                      0.000000\n",
       "listed_products                 0.000000\n",
       "total_units_sold                0.000000\n",
       "mean_units_sold_per_product     0.000000\n",
       "rating_employee                 0.000000\n",
       "merchant_ratings_count          0.000000\n",
       "mean_product_prices             0.000000\n",
       "mean_retail_prices              0.000000\n",
       "mean_product_ratings_count      0.000000\n",
       "discount_percentage             0.000000\n",
       "seller_reputation               0.000000\n",
       "dtype: float64"
      ]
     },
     "execution_count": 12,
     "metadata": {},
     "output_type": "execute_result"
    }
   ],
   "source": [
    "(df.isnull().sum() / df.shape[0]) * 100"
   ]
  },
  {
   "cell_type": "code",
   "execution_count": 13,
   "id": "ab6fc752",
   "metadata": {},
   "outputs": [
    {
     "data": {
      "text/plain": [
       "merchant_info_subtitle         18.69\n",
       "rating_five_count               2.86\n",
       "rating_four_count               2.86\n",
       "rating_three_count              2.86\n",
       "rating_two_count                2.86\n",
       "rating_one_count                2.86\n",
       "product_color                   2.61\n",
       "origin_country                  1.08\n",
       "product_variation_size_id       0.89\n",
       "merchant_name                   0.25\n",
       "listed_products                 0.00\n",
       "merchant_rating_count           0.00\n",
       "merchant_id                     0.00\n",
       "product_url                     0.00\n",
       "product_id                      0.00\n",
       "title                           0.00\n",
       "total_units_sold                0.00\n",
       "mean_units_sold_per_product     0.00\n",
       "merchant_ratings_count          0.00\n",
       "mean_product_prices             0.00\n",
       "mean_retail_prices              0.00\n",
       "mean_product_ratings_count      0.00\n",
       "discount_percentage             0.00\n",
       "rating_employee                 0.00\n",
       "shipping_is_express             0.00\n",
       "inventory_total                 0.00\n",
       "countries_shipped_to            0.00\n",
       "price                           0.00\n",
       "shipping_option_price           0.00\n",
       "shipping_option_name            0.00\n",
       "tags                            0.00\n",
       "badge_fast_shipping             0.00\n",
       "badge_product_quality           0.00\n",
       "badge_local_product             0.00\n",
       "rating_count                    0.00\n",
       "rating_sold                     0.00\n",
       "uses_ad_boosts                  0.00\n",
       "units_sold                      0.00\n",
       "retail_price                    0.00\n",
       "seller_reputation               0.00\n",
       "dtype: float64"
      ]
     },
     "execution_count": 13,
     "metadata": {},
     "output_type": "execute_result"
    }
   ],
   "source": [
    "#3. Explorad los nulos que hay en el DataFrame.\n",
    "\n",
    "round((df.isnull().sum() / df.shape[0]) * 100, 2).sort_values(ascending=False)"
   ]
  },
  {
   "cell_type": "code",
   "execution_count": 14,
   "id": "91b542f7",
   "metadata": {},
   "outputs": [
    {
     "data": {
      "text/plain": [
       "merchant_info_subtitle         18.69\n",
       "rating_five_count               2.86\n",
       "rating_four_count               2.86\n",
       "rating_three_count              2.86\n",
       "rating_two_count                2.86\n",
       "rating_one_count                2.86\n",
       "product_color                   2.61\n",
       "origin_country                  1.08\n",
       "product_variation_size_id       0.89\n",
       "merchant_name                   0.25\n",
       "listed_products                 0.00\n",
       "merchant_rating_count           0.00\n",
       "merchant_id                     0.00\n",
       "product_url                     0.00\n",
       "product_id                      0.00\n",
       "title                           0.00\n",
       "total_units_sold                0.00\n",
       "mean_units_sold_per_product     0.00\n",
       "merchant_ratings_count          0.00\n",
       "mean_product_prices             0.00\n",
       "mean_retail_prices              0.00\n",
       "mean_product_ratings_count      0.00\n",
       "discount_percentage             0.00\n",
       "rating_employee                 0.00\n",
       "shipping_is_express             0.00\n",
       "inventory_total                 0.00\n",
       "countries_shipped_to            0.00\n",
       "price                           0.00\n",
       "shipping_option_price           0.00\n",
       "shipping_option_name            0.00\n",
       "tags                            0.00\n",
       "badge_fast_shipping             0.00\n",
       "badge_product_quality           0.00\n",
       "badge_local_product             0.00\n",
       "rating_count                    0.00\n",
       "rating_sold                     0.00\n",
       "uses_ad_boosts                  0.00\n",
       "units_sold                      0.00\n",
       "retail_price                    0.00\n",
       "seller_reputation               0.00\n",
       "dtype: float64"
      ]
     },
     "execution_count": 14,
     "metadata": {},
     "output_type": "execute_result"
    }
   ],
   "source": [
    "round((df.isnull().sum() / df.shape[0]) * 100, 2).sort_values(ascending=False)"
   ]
  }
 ],
 "metadata": {
  "kernelspec": {
   "display_name": "base",
   "language": "python",
   "name": "python3"
  },
  "language_info": {
   "codemirror_mode": {
    "name": "ipython",
    "version": 3
   },
   "file_extension": ".py",
   "mimetype": "text/x-python",
   "name": "python",
   "nbconvert_exporter": "python",
   "pygments_lexer": "ipython3",
   "version": "3.12.7"
  }
 },
 "nbformat": 4,
 "nbformat_minor": 5
}
